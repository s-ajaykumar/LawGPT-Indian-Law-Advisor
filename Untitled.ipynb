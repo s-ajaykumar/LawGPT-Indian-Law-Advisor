{
 "cells": [
  {
   "cell_type": "code",
   "execution_count": 8,
   "id": "246ab0d7-2ef3-436c-9382-ffc0cea77cdb",
   "metadata": {},
   "outputs": [],
   "source": [
    "from bs4 import BeautifulSoup\n",
    "import requests\n",
    "from selenium import webdriver\n",
    "from selenium.webdriver import ChromeOptions\n",
    "from selenium.webdriver.common.by import By"
   ]
  },
  {
   "cell_type": "code",
   "execution_count": 25,
   "id": "49ad31f2-365e-48b1-b1ff-0eae6d4ec00d",
   "metadata": {},
   "outputs": [
    {
     "name": "stdout",
     "output_type": "stream",
     "text": [
      "<selenium.webdriver.remote.webelement.WebElement (session=\"987c9e342e46420720a496220785430e\", element=\"f.13273BFEEEAACC4956FE3740C6D7A7FA.d.6BBB606B4C51E7A2ADFA32132F06F99E.e.40\")> \n",
      "\n",
      "---------------------------------------------------------------------------\n",
      "\n",
      "<selenium.webdriver.remote.webelement.WebElement (session=\"236680713e3c9db1fcaa65950e66d1d0\", element=\"f.574CC440A0DA131414B506B6705F0C0D.d.39A0CC003AF88B046FB04ABC608ECA02.e.40\")> \n",
      "\n",
      "---------------------------------------------------------------------------\n",
      "\n",
      "0 \n",
      "\n",
      "---------------------------------------------------------------------------\n",
      "\n",
      "<selenium.webdriver.remote.webelement.WebElement (session=\"d63e014756629878acf0c7dcadadf1d7\", element=\"f.B1164AFD824D778C6C378D4FBCAC0399.d.8DB0F6CFC4E368DDD40C5685B1F0DDAB.e.40\")> \n",
      "\n",
      "---------------------------------------------------------------------------\n",
      "\n",
      "0 \n",
      "\n",
      "---------------------------------------------------------------------------\n",
      "\n"
     ]
    }
   ],
   "source": [
    "def extracting_p_and_blockquote_tags(driver):\n",
    "    try:\n",
    "        p_tags = driver.find_elements(By.XPATH, \"//p[@title = 'Issue']\")\n",
    "        return p_tags[0]\n",
    "    except:\n",
    "        return 0\n",
    "    \n",
    "urls = ['https://indiankanoon.org/docfragment/52091592/?formInput=doctypes%3A%20chennai%20fromdate%3A%201-1-202%20todate%3A%2031-12-202',\n",
    " 'https://indiankanoon.org/docfragment/23969784/?formInput=doctypes%3A%20chennai%20fromdate%3A%201-1-202%20todate%3A%2031-12-202',\n",
    " 'https://indiankanoon.org/docfragment/102815189/?formInput=doctypes%3A%20chennai%20fromdate%3A%201-1-202%20todate%3A%2031-12-202',\n",
    " 'https://indiankanoon.org/docfragment/152517345/?formInput=doctypes%3A%20chennai%20fromdate%3A%201-1-206%20todate%3A%2031-12-206',\n",
    " 'https://indiankanoon.org/docfragment/128046475/?formInput=doctypes%3A%20chennai%20fromdate%3A%201-1-680%20todate%3A%2031-12-680']\n",
    "\n",
    "\"\"\"def driver_start(url, driver):\n",
    "    driver.get(url)\n",
    "    html = driver.page_source\n",
    "    soup = BeautifulSoup(html, 'html')\n",
    "    return soup\"\"\"\n",
    "\n",
    "#start the driver\n",
    "def driver_start(url, options):\n",
    "    driver = webdriver.Chrome(options = options)\n",
    "    driver.get(url)\n",
    "    return extracting_p_and_blockquote_tags(driver)\n",
    "\n",
    "\n",
    "#selenium headless mode\n",
    "options = ChromeOptions()\n",
    "options.add_argument(\"--headless=new\")\n",
    "\n",
    "for url in urls:\n",
    "    driver = driver_start(url, options)\n",
    "    print(extracting_p_and_blockquote_tags(driver), '\\n')\n",
    "    print('---------------------------------------------------------------------------\\n')\n",
    "\n",
    "\n",
    "\n",
    "    \n"
   ]
  },
  {
   "cell_type": "code",
   "execution_count": 24,
   "id": "f1e8be98-130b-4322-9f12-31d21b11a8e6",
   "metadata": {},
   "outputs": [
    {
     "ename": "AttributeError",
     "evalue": "'str' object has no attribute 'find_all'",
     "output_type": "error",
     "traceback": [
      "\u001b[1;31m---------------------------------------------------------------------------\u001b[0m",
      "\u001b[1;31mAttributeError\u001b[0m                            Traceback (most recent call last)",
      "Cell \u001b[1;32mIn[24], line 31\u001b[0m\n\u001b[0;32m     28\u001b[0m options\u001b[38;5;241m.\u001b[39madd_argument(\u001b[38;5;124m\"\u001b[39m\u001b[38;5;124m--headless=new\u001b[39m\u001b[38;5;124m\"\u001b[39m)\n\u001b[0;32m     30\u001b[0m \u001b[38;5;28;01mfor\u001b[39;00m url \u001b[38;5;129;01min\u001b[39;00m urls:\n\u001b[1;32m---> 31\u001b[0m     driver \u001b[38;5;241m=\u001b[39m driver_start(url, options)\n\u001b[0;32m     32\u001b[0m     \u001b[38;5;28mprint\u001b[39m(extracting_p_and_blockquote_tags(driver), \u001b[38;5;124m'\u001b[39m\u001b[38;5;130;01m\\n\u001b[39;00m\u001b[38;5;124m'\u001b[39m)\n\u001b[0;32m     33\u001b[0m     \u001b[38;5;28mprint\u001b[39m(\u001b[38;5;124m'\u001b[39m\u001b[38;5;124m---------------------------------------------------------------------------\u001b[39m\u001b[38;5;130;01m\\n\u001b[39;00m\u001b[38;5;124m'\u001b[39m)\n",
      "Cell \u001b[1;32mIn[24], line 23\u001b[0m, in \u001b[0;36mdriver_start\u001b[1;34m(url, options)\u001b[0m\n\u001b[0;32m     21\u001b[0m driver\u001b[38;5;241m.\u001b[39mget(url)\n\u001b[0;32m     22\u001b[0m html \u001b[38;5;241m=\u001b[39m driver\u001b[38;5;241m.\u001b[39mpage_source\n\u001b[1;32m---> 23\u001b[0m \u001b[38;5;28;01mreturn\u001b[39;00m extracting_p_and_blockquote_tags(html)\n",
      "Cell \u001b[1;32mIn[24], line 3\u001b[0m, in \u001b[0;36mextracting_p_and_blockquote_tags\u001b[1;34m(driver)\u001b[0m\n\u001b[0;32m      1\u001b[0m \u001b[38;5;28;01mdef\u001b[39;00m \u001b[38;5;21mextracting_p_and_blockquote_tags\u001b[39m(driver):\n\u001b[1;32m----> 3\u001b[0m         p_tags \u001b[38;5;241m=\u001b[39m driver\u001b[38;5;241m.\u001b[39mfind_all(\u001b[38;5;124m\"\u001b[39m\u001b[38;5;124mp\u001b[39m\u001b[38;5;124m\"\u001b[39m)\n\u001b[0;32m      4\u001b[0m         \u001b[38;5;28;01mreturn\u001b[39;00m p_tags[\u001b[38;5;241m0\u001b[39m]\n",
      "\u001b[1;31mAttributeError\u001b[0m: 'str' object has no attribute 'find_all'"
     ]
    }
   ],
   "source": [
    "def extracting_p_and_blockquote_tags(driver):\n",
    "    \n",
    "        p_tags = driver.find_all(\"p\")\n",
    "        return p_tags[0]\n",
    "    \n",
    "urls = ['https://indiankanoon.org/docfragment/52091592/?formInput=doctypes%3A%20chennai%20fromdate%3A%201-1-202%20todate%3A%2031-12-202',\n",
    " 'https://indiankanoon.org/docfragment/23969784/?formInput=doctypes%3A%20chennai%20fromdate%3A%201-1-202%20todate%3A%2031-12-202',\n",
    " 'https://indiankanoon.org/docfragment/102815189/?formInput=doctypes%3A%20chennai%20fromdate%3A%201-1-202%20todate%3A%2031-12-202',\n",
    " 'https://indiankanoon.org/docfragment/152517345/?formInput=doctypes%3A%20chennai%20fromdate%3A%201-1-206%20todate%3A%2031-12-206',\n",
    " 'https://indiankanoon.org/docfragment/128046475/?formInput=doctypes%3A%20chennai%20fromdate%3A%201-1-680%20todate%3A%2031-12-680']\n",
    "\n",
    "\"\"\"def driver_start(url, driver):\n",
    "    driver.get(url)\n",
    "    html = driver.page_source\n",
    "    soup = BeautifulSoup(html, 'html')\n",
    "    return soup\"\"\"\n",
    "\n",
    "#start the driver\n",
    "def driver_start(url, options):\n",
    "    driver = webdriver.Chrome(options = options)\n",
    "    driver.get(url)\n",
    "    html = driver.page_source\n",
    "    return extracting_p_and_blockquote_tags(html)\n",
    "\n",
    "\n",
    "#selenium headless mode\n",
    "options = ChromeOptions()\n",
    "options.add_argument(\"--headless=new\")\n",
    "\n",
    "for url in urls:\n",
    "    driver = driver_start(url, options)\n",
    "    print(extracting_p_and_blockquote_tags(driver), '\\n')\n",
    "    print('---------------------------------------------------------------------------\\n')\n",
    "\n",
    "\n",
    "\n",
    "    \n"
   ]
  }
 ],
 "metadata": {
  "kernelspec": {
   "display_name": "Python 3 (ipykernel)",
   "language": "python",
   "name": "python3"
  },
  "language_info": {
   "codemirror_mode": {
    "name": "ipython",
    "version": 3
   },
   "file_extension": ".py",
   "mimetype": "text/x-python",
   "name": "python",
   "nbconvert_exporter": "python",
   "pygments_lexer": "ipython3",
   "version": "3.12.4"
  }
 },
 "nbformat": 4,
 "nbformat_minor": 5
}
