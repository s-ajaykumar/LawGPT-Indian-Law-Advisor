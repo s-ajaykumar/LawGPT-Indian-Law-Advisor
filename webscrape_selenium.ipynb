{
 "cells": [
  {
   "cell_type": "code",
   "execution_count": 97,
   "id": "cf8817e8-0a82-4869-bc99-2698161327a7",
   "metadata": {},
   "outputs": [],
   "source": [
    "from selenium import webdriver\n",
    "from selenium.webdriver.common.keys import Keys\n",
    "from selenium.webdriver.common.by import By\n",
    "import os\n",
    "import requests\n",
    "import time\n",
    "import pandas as pd\n",
    "import re\n",
    "from selenium.webdriver.chrome.options import Options"
   ]
  },
  {
   "cell_type": "code",
   "execution_count": 35,
   "id": "5b6768f4-8f08-4164-b975-0d3c6872dd00",
   "metadata": {},
   "outputs": [],
   "source": [
    "driver.switch_to.window(driver.window_handles[0])"
   ]
  },
  {
   "cell_type": "code",
   "execution_count": 57,
   "id": "64c7d03e-2865-42fa-9dfd-7d8c10b53edd",
   "metadata": {},
   "outputs": [],
   "source": [
    "#creating input dictionary\n",
    "data = {'input_ids':[]}"
   ]
  },
  {
   "cell_type": "code",
   "execution_count": 98,
   "id": "d4d7aac7-5549-404c-9973-0d69a0471a36",
   "metadata": {},
   "outputs": [
    {
     "ename": "TimeoutException",
     "evalue": "Message: timeout: Timed out receiving message from renderer: 300.000\n  (Session info: chrome=128.0.6613.119)\nStacktrace:\n\tGetHandleVerifier [0x00007FF6E36BB5D2+29090]\n\t(No symbol) [0x00007FF6E362E689]\n\t(No symbol) [0x00007FF6E34EB1CA]\n\t(No symbol) [0x00007FF6E34D3F0D]\n\t(No symbol) [0x00007FF6E34D3C10]\n\t(No symbol) [0x00007FF6E34D1AD3]\n\t(No symbol) [0x00007FF6E34D231F]\n\t(No symbol) [0x00007FF6E34E0C1E]\n\t(No symbol) [0x00007FF6E34F95CD]\n\t(No symbol) [0x00007FF6E34FF16A]\n\t(No symbol) [0x00007FF6E34D2A6A]\n\t(No symbol) [0x00007FF6E34F943F]\n\t(No symbol) [0x00007FF6E35864BB]\n\t(No symbol) [0x00007FF6E3566493]\n\t(No symbol) [0x00007FF6E35309B1]\n\t(No symbol) [0x00007FF6E3531B11]\n\tGetHandleVerifier [0x00007FF6E39D8C5D+3295277]\n\tGetHandleVerifier [0x00007FF6E3A24843+3605523]\n\tGetHandleVerifier [0x00007FF6E3A1A707+3564247]\n\tGetHandleVerifier [0x00007FF6E3776EB6+797318]\n\t(No symbol) [0x00007FF6E363980F]\n\t(No symbol) [0x00007FF6E36353F4]\n\t(No symbol) [0x00007FF6E3635580]\n\t(No symbol) [0x00007FF6E3624A1F]\n\tBaseThreadInitThunk [0x00007FFFC1AB7374+20]\n\tRtlUserThreadStart [0x00007FFFC1CBCC91+33]\n",
     "output_type": "error",
     "traceback": [
      "\u001b[1;31m---------------------------------------------------------------------------\u001b[0m",
      "\u001b[1;31mTimeoutException\u001b[0m                          Traceback (most recent call last)",
      "Cell \u001b[1;32mIn[98], line 1\u001b[0m\n\u001b[1;32m----> 1\u001b[0m \u001b[38;5;28;01mclass\u001b[39;00m \u001b[38;5;21;01mlink\u001b[39;00m:\n\u001b[0;32m      2\u001b[0m     \u001b[38;5;28;01mdef\u001b[39;00m \u001b[38;5;21mdriver_start\u001b[39m(url):\n\u001b[0;32m      3\u001b[0m         options \u001b[38;5;241m=\u001b[39m Options()\n",
      "Cell \u001b[1;32mIn[98], line 36\u001b[0m, in \u001b[0;36mlink\u001b[1;34m()\u001b[0m\n\u001b[0;32m     33\u001b[0m     driver\u001b[38;5;241m.\u001b[39mquit()\n\u001b[0;32m     34\u001b[0m     \u001b[38;5;28;01mreturn\u001b[39;00m page_links\n\u001b[1;32m---> 36\u001b[0m page_links \u001b[38;5;241m=\u001b[39m extract_page_links(year_links)\n",
      "Cell \u001b[1;32mIn[98], line 28\u001b[0m, in \u001b[0;36mlink.extract_page_links\u001b[1;34m(year_links)\u001b[0m\n\u001b[0;32m     26\u001b[0m page_links \u001b[38;5;241m=\u001b[39m []\n\u001b[0;32m     27\u001b[0m \u001b[38;5;28;01mfor\u001b[39;00m i \u001b[38;5;129;01min\u001b[39;00m year_links:\n\u001b[1;32m---> 28\u001b[0m     driver \u001b[38;5;241m=\u001b[39m driver_start(i)\n\u001b[0;32m     29\u001b[0m     row \u001b[38;5;241m=\u001b[39m driver\u001b[38;5;241m.\u001b[39mfind_element(By\u001b[38;5;241m.\u001b[39mTAG_NAME, \u001b[38;5;124m'\u001b[39m\u001b[38;5;124mtr\u001b[39m\u001b[38;5;124m'\u001b[39m)\n\u001b[0;32m     30\u001b[0m     td \u001b[38;5;241m=\u001b[39m row\u001b[38;5;241m.\u001b[39mfind_element(By\u001b[38;5;241m.\u001b[39mTAG_NAME, \u001b[38;5;124m'\u001b[39m\u001b[38;5;124mtd\u001b[39m\u001b[38;5;124m'\u001b[39m)\n",
      "Cell \u001b[1;32mIn[73], line 3\u001b[0m, in \u001b[0;36mdriver_start\u001b[1;34m(url)\u001b[0m\n\u001b[0;32m      1\u001b[0m \u001b[38;5;28;01mdef\u001b[39;00m \u001b[38;5;21mdriver_start\u001b[39m(url):\n\u001b[0;32m      2\u001b[0m     driver \u001b[38;5;241m=\u001b[39m webdriver\u001b[38;5;241m.\u001b[39mChrome()\n\u001b[1;32m----> 3\u001b[0m     driver\u001b[38;5;241m.\u001b[39mget(url)\n\u001b[0;32m      4\u001b[0m     \u001b[38;5;28;01mreturn\u001b[39;00m driver\n",
      "File \u001b[1;32mD:\\Ajay\\Softwares\\Lib\\site-packages\\selenium\\webdriver\\remote\\webdriver.py:363\u001b[0m, in \u001b[0;36mWebDriver.get\u001b[1;34m(self, url)\u001b[0m\n\u001b[0;32m    361\u001b[0m \u001b[38;5;28;01mdef\u001b[39;00m \u001b[38;5;21mget\u001b[39m(\u001b[38;5;28mself\u001b[39m, url: \u001b[38;5;28mstr\u001b[39m) \u001b[38;5;241m-\u001b[39m\u001b[38;5;241m>\u001b[39m \u001b[38;5;28;01mNone\u001b[39;00m:\n\u001b[0;32m    362\u001b[0m \u001b[38;5;250m    \u001b[39m\u001b[38;5;124;03m\"\"\"Loads a web page in the current browser session.\"\"\"\u001b[39;00m\n\u001b[1;32m--> 363\u001b[0m     \u001b[38;5;28mself\u001b[39m\u001b[38;5;241m.\u001b[39mexecute(Command\u001b[38;5;241m.\u001b[39mGET, {\u001b[38;5;124m\"\u001b[39m\u001b[38;5;124murl\u001b[39m\u001b[38;5;124m\"\u001b[39m: url})\n",
      "File \u001b[1;32mD:\\Ajay\\Softwares\\Lib\\site-packages\\selenium\\webdriver\\remote\\webdriver.py:354\u001b[0m, in \u001b[0;36mWebDriver.execute\u001b[1;34m(self, driver_command, params)\u001b[0m\n\u001b[0;32m    352\u001b[0m response \u001b[38;5;241m=\u001b[39m \u001b[38;5;28mself\u001b[39m\u001b[38;5;241m.\u001b[39mcommand_executor\u001b[38;5;241m.\u001b[39mexecute(driver_command, params)\n\u001b[0;32m    353\u001b[0m \u001b[38;5;28;01mif\u001b[39;00m response:\n\u001b[1;32m--> 354\u001b[0m     \u001b[38;5;28mself\u001b[39m\u001b[38;5;241m.\u001b[39merror_handler\u001b[38;5;241m.\u001b[39mcheck_response(response)\n\u001b[0;32m    355\u001b[0m     response[\u001b[38;5;124m\"\u001b[39m\u001b[38;5;124mvalue\u001b[39m\u001b[38;5;124m\"\u001b[39m] \u001b[38;5;241m=\u001b[39m \u001b[38;5;28mself\u001b[39m\u001b[38;5;241m.\u001b[39m_unwrap_value(response\u001b[38;5;241m.\u001b[39mget(\u001b[38;5;124m\"\u001b[39m\u001b[38;5;124mvalue\u001b[39m\u001b[38;5;124m\"\u001b[39m, \u001b[38;5;28;01mNone\u001b[39;00m))\n\u001b[0;32m    356\u001b[0m     \u001b[38;5;28;01mreturn\u001b[39;00m response\n",
      "File \u001b[1;32mD:\\Ajay\\Softwares\\Lib\\site-packages\\selenium\\webdriver\\remote\\errorhandler.py:229\u001b[0m, in \u001b[0;36mErrorHandler.check_response\u001b[1;34m(self, response)\u001b[0m\n\u001b[0;32m    227\u001b[0m         alert_text \u001b[38;5;241m=\u001b[39m value[\u001b[38;5;124m\"\u001b[39m\u001b[38;5;124malert\u001b[39m\u001b[38;5;124m\"\u001b[39m]\u001b[38;5;241m.\u001b[39mget(\u001b[38;5;124m\"\u001b[39m\u001b[38;5;124mtext\u001b[39m\u001b[38;5;124m\"\u001b[39m)\n\u001b[0;32m    228\u001b[0m     \u001b[38;5;28;01mraise\u001b[39;00m exception_class(message, screen, stacktrace, alert_text)  \u001b[38;5;66;03m# type: ignore[call-arg]  # mypy is not smart enough here\u001b[39;00m\n\u001b[1;32m--> 229\u001b[0m \u001b[38;5;28;01mraise\u001b[39;00m exception_class(message, screen, stacktrace)\n",
      "\u001b[1;31mTimeoutException\u001b[0m: Message: timeout: Timed out receiving message from renderer: 300.000\n  (Session info: chrome=128.0.6613.119)\nStacktrace:\n\tGetHandleVerifier [0x00007FF6E36BB5D2+29090]\n\t(No symbol) [0x00007FF6E362E689]\n\t(No symbol) [0x00007FF6E34EB1CA]\n\t(No symbol) [0x00007FF6E34D3F0D]\n\t(No symbol) [0x00007FF6E34D3C10]\n\t(No symbol) [0x00007FF6E34D1AD3]\n\t(No symbol) [0x00007FF6E34D231F]\n\t(No symbol) [0x00007FF6E34E0C1E]\n\t(No symbol) [0x00007FF6E34F95CD]\n\t(No symbol) [0x00007FF6E34FF16A]\n\t(No symbol) [0x00007FF6E34D2A6A]\n\t(No symbol) [0x00007FF6E34F943F]\n\t(No symbol) [0x00007FF6E35864BB]\n\t(No symbol) [0x00007FF6E3566493]\n\t(No symbol) [0x00007FF6E35309B1]\n\t(No symbol) [0x00007FF6E3531B11]\n\tGetHandleVerifier [0x00007FF6E39D8C5D+3295277]\n\tGetHandleVerifier [0x00007FF6E3A24843+3605523]\n\tGetHandleVerifier [0x00007FF6E3A1A707+3564247]\n\tGetHandleVerifier [0x00007FF6E3776EB6+797318]\n\t(No symbol) [0x00007FF6E363980F]\n\t(No symbol) [0x00007FF6E36353F4]\n\t(No symbol) [0x00007FF6E3635580]\n\t(No symbol) [0x00007FF6E3624A1F]\n\tBaseThreadInitThunk [0x00007FFFC1AB7374+20]\n\tRtlUserThreadStart [0x00007FFFC1CBCC91+33]\n"
     ]
    }
   ],
   "source": [
    "class link:\n",
    "    def driver_start(url):\n",
    "        options = Options()\n",
    "        options.add_argument(\"--headless\")\n",
    "        driver = webdriver.Chrome(options = options)\n",
    "        driver.get(url)\n",
    "        return driver\n",
    "        \n",
    "    def extract_year_links():\n",
    "        year_links = []\n",
    "        driver = driver_start('https://indiankanoon.org/browse/chennai/')\n",
    "        table = driver.find_element(By.TAG_NAME, 'table')\n",
    "        rows = table.find_elements(By.TAG_NAME, 'tr')\n",
    "        for row in rows:\n",
    "            tds = row.find_elements(By.TAG_NAME, 'td')\n",
    "            for td in tds:\n",
    "                a_tag = td.find_element(By.TAG_NAME, 'a')\n",
    "                link = a_tag.get_attribute('href')\n",
    "                year_links.append(link)\n",
    "        driver.quit()\n",
    "        return year_links\n",
    "\n",
    "    year_links = extract_year_links()\n",
    "    \n",
    "    def extract_page_links(year_links):\n",
    "        page_links = []\n",
    "        for i in year_links:\n",
    "            driver = driver_start(i)\n",
    "            row = driver.find_element(By.TAG_NAME, 'tr')\n",
    "            td = row.find_element(By.TAG_NAME, 'td')\n",
    "            a_tag = td.find_element(By.TAG_NAME, 'a')\n",
    "            page_links.append(a_tag.get_attribute('href'))\n",
    "        driver.quit()\n",
    "        return page_links\n",
    "\n",
    "    page_links = extract_page_links(year_links)\n",
    "\n",
    "\n",
    "            \n",
    "link_obj = link\n",
    "links = link_obj.page_links\n",
    "print(links)\n",
    "print(len(links))"
   ]
  },
  {
   "cell_type": "code",
   "execution_count": 95,
   "id": "a2930b2b-850f-4f5e-bdb3-702c4987dc54",
   "metadata": {},
   "outputs": [],
   "source": [
    "driver.quit()"
   ]
  },
  {
   "cell_type": "code",
   "execution_count": 45,
   "id": "6fc1a47c-56d8-43d2-87ae-666e98a296aa",
   "metadata": {},
   "outputs": [],
   "source": [
    "def driver_start():\n",
    "    #start the driver\n",
    "    # webdriver - opens browser automatically and opens the website we provide\n",
    "    driver = webdriver.Chrome()\n",
    "    url = 'https://indiankanoon.org/doc/107707945/'\n",
    "    driver.get(url)\n",
    "    \n",
    "#extracting p and blockquote tags\n",
    "def extracting_p_and_blockquote_tags():\n",
    "    all_tags = driver.find_element(By.XPATH, '//div[@class = \"judgments\"]' )\n",
    "    tags = all_tags.find_elements(By.TAG_NAME, \"*\")\n",
    "    req_tags = []\n",
    "    for tag in tags:\n",
    "        if tag.tag_name == 'p' or tag.tag_name == 'blockquote':\n",
    "            req_tags.append(tag)\n",
    "    return req_tags\n",
    "\n",
    "#remove_starting_nums\n",
    "def remove_starting_nums(str):\n",
    "    return re.sub(r'^\\d+.', '', str)\n",
    "\n",
    "def remove_starting_nums_check(tagname, ):\n",
    "    txt = ''\n",
    "    for i in req_tags:\n",
    "        if i.tag_name == 'blockquote':\n",
    "            txt += i.text + \"\\n\"\n",
    "        elif i.tag_name == 'p':\n",
    "            s = remove_starting_nums(i.text)\n",
    "            txt += s + \"\\n\"\n",
    "            \n",
    "#Extracting input_ids of each case\n",
    "def extract_input_id(req_tags):\n",
    "    req_tags = req_tags\n",
    "    input_id = 'Give a judgement based on the following.\\nCase Facts and Issues:\\n'\n",
    "    titles = [\"Fact\", \"Issue\"]\n",
    "    for tag in req_tags:\n",
    "        if tag.get_attribute('title') in titles:\n",
    "            if tag.tag_name == 'blockquote':\n",
    "                input_id += tag.text + \"\\n\"\n",
    "            elif tag.tag_name == 'p':\n",
    "                s = remove_starting_nums(tag.text)\n",
    "                input_id += s + \"\\n\"\n",
    "                input_id += tag.text + \"\\n\"\n",
    "    return input_id\n",
    "\n",
    "#Extracting input_ids of each case\n",
    "def extract_label(req_tags):\n",
    "    req_tags = req_tags\n",
    "    label = 'Judgement:\\n'\n",
    "    titles = [\"Conclusion\"]\n",
    "    for tag in req_tags:\n",
    "        if tag.get_attribute('title') in titles:\n",
    "            if tag.tag_name == 'blockquote':\n",
    "                label += tag.text + \"\\n\"\n",
    "            elif tag.tag_name == 'p':\n",
    "                #s = remove_starting_nums(tag.text)\n",
    "                #label += s + \"\\n\"\n",
    "                label += tag.text + \"\\n\"\n",
    "    return label\n",
    "\n",
    "def apply_chat_format(input_id, label):\n",
    "    chat_template_applied_input_id= f\"<|system|>\\nYou are a helpful Indian law assistant.<|end|>\\n<|user|>\\n{input_id}<|end|>\\n<|assistant|>\\n{label}<|end|>\"\n",
    "    return chat_template_applied_input_id\n",
    "\n",
    "def adding_input_id_to_dictionary(chat_template_applied_input_id):\n",
    "    data['input_ids'].append(chat_template_applied_input_id)\n",
    "    return data\n",
    "    \n",
    "def main():\n",
    "    driver_start()\n",
    "    req_tags = extracting_p_and_blockquote_tags()\n",
    "    input_id = extract_input_id(req_tags)\n",
    "    label = extract_label(req_tags)\n",
    "    chat_template_applied_input_id = apply_chat_format(input_id, label)\n",
    "    data = adding_input_id_to_dictionary(chat_template_applied_input_id)\n",
    "    print(input_id, \"\\n\")\n",
    "    print(\"---------------------------------------------------------------------------------\")\n",
    "    print(\"\\n\", label)"
   ]
  },
  {
   "cell_type": "code",
   "execution_count": null,
   "id": "24b2abf3-4212-4b81-9ef8-a2fccbd05b37",
   "metadata": {},
   "outputs": [],
   "source": [
    "driver.quit()"
   ]
  },
  {
   "cell_type": "code",
   "execution_count": 35,
   "id": "6bd04d8e-df4d-445a-8537-d43d92156d5b",
   "metadata": {},
   "outputs": [],
   "source": [
    "data = adding_input_id_to_dictionary(chat_template_applied_input_id)"
   ]
  },
  {
   "cell_type": "code",
   "execution_count": 36,
   "id": "659a221d-8aef-4f10-9219-952937845944",
   "metadata": {},
   "outputs": [
    {
     "name": "stdout",
     "output_type": "stream",
     "text": [
      "{'input_ids': ['<|system|>\\nYou are a helpful Indian law assistant.<|end|>\\n<|user|>\\nGive a judgement based on the following.\\nCase Facts and Issues:\\nW.A.Nos.849 to 854 of 2010 & 2066 of 2010 \\x16 Whether the Appellants, who were part of Special Task Force and were given \"one stage accelerated promotion\" by executive orders, can claim consequential seniority in the accelerated promotional post over their senior lower category; whether the learned single Judge was right in holding that G.O.Ms.1396 Home (Pol.1A) Department dated 03.10.2007 sets right the ambiguity regarding seniority position in accordance with General Rule 35 of Tamil Nadu State and Subordinate Service Rules and whether the Order of the learned single Judge warrants any interference, are the points falling for consideration in these intra-Court appeals. Validity of G.O.Ms.1396 Home Department dated 03.10.2007 is the core issue.\\nW.A.Nos.849 to 854 of 2010 & 2066 of 2010 \\x16 Whether the Appellants, who were part of Special Task Force and were given \"one stage accelerated promotion\" by executive orders, can claim consequential seniority in the accelerated promotional post over their senior lower category; whether the learned single Judge was right in holding that G.O.Ms.1396 Home (Pol.1A) Department dated 03.10.2007 sets right the ambiguity regarding seniority position in accordance with General Rule 35 of Tamil Nadu State and Subordinate Service Rules and whether the Order of the learned single Judge warrants any interference, are the points falling for consideration in these intra-Court appeals. Validity of G.O.Ms.1396 Home Department dated 03.10.2007 is the core issue.\\n Before the learned single Judge the Government supported G.O.Ms.No.1396 Home dated 03.10.2007 and thereby supported the Respondents by taking a stand that accelerated promotees could never be given consequential seniority and that Executive Orders cannot over ride the statutory rules. Against the dismissal of Writ Petitions, Writ Appeals in W.A.Nos.849 to 854 of 2010 and 2066 of 2010 were filed by certain police personnel. Writ Petitions in W.P.Nos.25736 to 25741 of 2010, which were omitted to be tagged along with batch of Writ Petitions challenging G.O.Ms.No.1396 Home dated 03.10.2007, were also taken up. State Government has not preferred any appeal. In these appeals, State Government made volte-face by assailing G.O.Ms.No.1396 Home dated 03.10.2007.\\n2. Before the learned single Judge the Government supported G.O.Ms.No.1396 Home dated 03.10.2007 and thereby supported the Respondents by taking a stand that accelerated promotees could never be given consequential seniority and that Executive Orders cannot over ride the statutory rules. Against the dismissal of Writ Petitions, Writ Appeals in W.A.Nos.849 to 854 of 2010 and 2066 of 2010 were filed by certain police personnel. Writ Petitions in W.P.Nos.25736 to 25741 of 2010, which were omitted to be tagged along with batch of Writ Petitions challenging G.O.Ms.No.1396 Home dated 03.10.2007, were also taken up. State Government has not preferred any appeal. In these appeals, State Government made volte-face by assailing G.O.Ms.No.1396 Home dated 03.10.2007.\\n In the writ appeals, earlier, the Division Bench in their order dated 12.04.2012, granted \"interim stay of operation of the common order dated 14.10.2009 passed by the single Judge\". By the order dated 02.8.2012, the Division Bench modified the earlier interim order dated 12.4.2012 into \"status quo\". Referring to the interim stay granted by the Division Bench and the opinion of the then learned Advocate General, Government issued G.O.Ms.No.332 Home (Pol.1A) Department dated 03.05.2012 cancelling Paragraph (3) of G.O.Ms.1396 Home dated 03.10.2007 and restoring the original position occurring at Paragraph 5(e) of G.O.Ms.No.1252 Home dated 29.10.2004 and G.O.Ms.No.1346 Home dated 06.12.2004. Challenging G.O.Ms.No.332 Home dated 03.05.2012, Writ Petitions (W.P.Nos.17731 & 20728 of 2012 and W.P.(MD) No.8911 of 2012) were filed by some of the police personnel. Since the issues involved in the Writ Appeals and the Writ Petitions are one and the same, both were heard together and shall stand disposed of by this common Judgment.\\n3. In the writ appeals, earlier, the Division Bench in their order dated 12.04.2012, granted \"interim stay of operation of the common order dated 14.10.2009 passed by the single Judge\". By the order dated 02.8.2012, the Division Bench modified the earlier interim order dated 12.4.2012 into \"status quo\". Referring to the interim stay granted by the Division Bench and the opinion of the then learned Advocate General, Government issued G.O.Ms.No.332 Home (Pol.1A) Department dated 03.05.2012 cancelling Paragraph (3) of G.O.Ms.1396 Home dated 03.10.2007 and restoring the original position occurring at Paragraph 5(e) of G.O.Ms.No.1252 Home dated 29.10.2004 and G.O.Ms.No.1346 Home dated 06.12.2004. Challenging G.O.Ms.No.332 Home dated 03.05.2012, Writ Petitions (W.P.Nos.17731 & 20728 of 2012 and W.P.(MD) No.8911 of 2012) were filed by some of the police personnel. Since the issues involved in the Writ Appeals and the Writ Petitions are one and the same, both were heard together and shall stand disposed of by this common Judgment.\\n Brief facts which led to passing of G.O.Ms.No.1396 Home dated 03.10.2007:-\\n4. Brief facts which led to passing of G.O.Ms.No.1396 Home dated 03.10.2007:-\\nIn recognition of killing of notorious forest brigand Veerappan and his gang, in G.O.Ms.No.1252 Home dated 29.10.2004, the State Government have accorded accelerated promotion to 748 police personnel by creating supernumerary posts to accommodate the persons, who were given accelerated promotions. In the said G.O., while granting one stage accelerated promotion, the Government ordered creation of 748 supernumerary posts in order to accommodate those who are accorded accelerated promotion by specifically indicating that those 748 supernumerary posts sanctioned were person oriented and shall lapse whenever the incumbents vacate the posts on retirement from service or otherwise.\\n In G.O.Ms.No.1346 Home dated 06.12.2004, Government also granted accelerated promotion to 159 Special Task Force police personnel and granted cash award of Rs.2,00,000/- to each including the Appellants herein, who served in the Special Task Force. In G.O.Ms.No.1357 Home dated 6.12.2004, three police personnel, who were accorded one stage accelerated promotion under G.O.Ms.No.1252 Home dated 29.10.2004, were granted one stage further promotion (out of turn) to the rank of Deputy Superintendent of Police, Sub-Inspector of Police, Head Constable respectively.\\n6. In G.O.Ms.No.1346 Home dated 06.12.2004, Government also granted accelerated promotion to 159 Special Task Force police personnel and granted cash award of Rs.2,00,000/- to each including the Appellants herein, who served in the Special Task Force. In G.O.Ms.No.1357 Home dated 6.12.2004, three police personnel, who were accorded one stage accelerated promotion under G.O.Ms.No.1252 Home dated 29.10.2004, were granted one stage further promotion (out of turn) to the rank of Deputy Superintendent of Police, Sub-Inspector of Police, Head Constable respectively.\\n Findings of Writ Court \\x16 Upon consideration of the rival contentions, learned single Judge dismissed the Writ Petitions holding that:-\\n11. Findings of Writ Court \\x16 Upon consideration of the rival contentions, learned single Judge dismissed the Writ Petitions holding that:-\\nAppellants were not promoted to the substantive posts which were available when Government Order was passed, but supernumerary posts were created for them to accommodate accelerated promotees.\\nThe post in question, being a selection post, requires consideration of eligible and qualified persons. Accelerated promotions were granted to chosen individuals.\\nAccelerated Promotion Board Minutes dated 25.10.2004 does not reveal consideration of each and every individual\\'s acts of bravery.\\nWhile according accelerated promotion to police personnel of S.T.F. team, Guidelines issued in G.O.Ms.No.468 dated 19.03.1996 have not been followed.\\nGovernment was well within its power in deleting Para 5(e) in G.O.Ms.No.1252 Home dated 29.10.2004 and the impugned G.O.Ms.No.1396 Home dated 03.10.2007 enforces first proviso to Rule 35(aa) of Tamil Nadu State and Subordinate Service Rules and G.O.Ms.No.1396 clarifies the panel position.\\n In the Writ Court, Government took a stand supporting G.O.Ms.No.1396 Home dated 03.10.2007. As against the dismissal of Writ Petitions, Government have not preferred any appeal. In the appeals, in its volte-face stand, Government now supports the Appellants by assailing G.O.Ms.No.1396 Home dated 03.10.2007. In total contradiction to the stand taken in the counter, the learned Advocate General submitted that the persons who took part in Special Task Force operation stand apart from the other persons and one stage accelerated promotion granted carries with its seniority also and the seniority is consequential to the accelerated promotion.\\n19. In the Writ Court, Government took a stand supporting G.O.Ms.No.1396 Home dated 03.10.2007. As against the dismissal of Writ Petitions, Government have not preferred any appeal. In the appeals, in its volte-face stand, Government now supports the Appellants by assailing G.O.Ms.No.1396 Home dated 03.10.2007. In total contradiction to the stand taken in the counter, the learned Advocate General submitted that the persons who took part in Special Task Force operation stand apart from the other persons and one stage accelerated promotion granted carries with its seniority also and the seniority is consequential to the accelerated promotion.\\n We have carefully considered the contentions and also the order of the learned single Judge. Upon consideration of rival contentions, the following points arise for consideration:-\\n24. We have carefully considered the contentions and also the order of the learned single Judge. Upon consideration of rival contentions, the following points arise for consideration:-\\n1. Whether non-challenge of G.O.Ms.No.1252, Home dated 29.10.2004 and other Government Orders will disentitle the regular promotees to question the consequential seniority claimed by the Appellants?\\n2. Whether the Respondents are right in contending that the accelerated promotion given to the Appellants/Police personnel in Special Task Force Team was without reference to any statutory rules and that executive orders cannot override the statutory rules?\\n3. Whether the Appellants and other police personnel, who were awarded one stage accelerated promotion in the newly created supernumerary posts, can claim consequential seniority in the higher category?\\n4. Whether contesting Respondents are right in contending that the promotional post being a selection post, question of fixing seniority for accelerated promotions in the promotional position has to be strictly in accordance with Tamil Nadu State and Subordinate Service Rules?\\n5. Whether the award of accelerated promotion given to the accelerated promotees was promotion given to them based on merit and ability within the ambit of Rule 36(b)(ii)(2)?\\n6. Whether the Government was right in considering the representations given by the Police Officers, who are seniors to the persons who have been accorded accelerated promotion and passing impugned G.O.Ms.No.1396 Home dated 3.10.2007?\\n7. Whether G.O.Ms.No.1396 Home dated 03.10.2007 deleting Para No.5(e) clarifies ambiguity over panel position of the accelerated promotees vis-a-vis their seniors in the lower category as per Tamil Nadu State and Subordinate Service Rules?\\n8. Whether the Government is justified in taking a different stand in the writ appeals and issuing G.O.Ms.No.332 Home dated 03.05.2012?\\nORDER:\\nORDER:\\n------\\n..........\\n2. In recognition of their courage and heroic achievement the Honourable Chief Minister in the Press Meet held on 19.10.2004 has announced among others that \"One Stage accelerated promotion\" will be given to all the 752 Special Task Force personnel involved in the operation. ......\\n5. ........\\n(a)Accelerated promotion of one stage from the present rank is accorded as detailed below\\n(i)Tvl. G.Sampathkumar and S.V.Karuppasamy, now Addl. Superintendent of Police (Category I) to the rank of Superintendent of Police (Non IPS).\\n(ii)Tvl. Thirunavukkarasu, M.Sundararajan, C.P.Chitrarasu, Deputy Superintendent of Police (Category I) to the rank of Additional Superintendent of Police (Category I) and F.M.Hussain, Deputy Superintendent of Police (Category II) to the rank of Additional Superintendent of Police (Category II).\\n(iii)12 Inspectors of Police to the rank of Dy. Superintendents of Police.\\n(iv)76 Sub-Inspectors of Police/Sub-Inspectors of Police (Technical) to the rank of Inspectors of Police/Inspectors of Police (Technical).\\n(v)56 Head Constables/Havildars/Special Sub-Inspector of Police to the rank of Sub-Inspectors of Police.\\n(vi)59 Grade I Police Constables to the rank of Head Constables/Havildars.\\n(vii)519 Grade II Police Constables to the rank of Grade I Police Constables.\\n(viii)1 photographer to the rank of Senior Photographer.\\n(ix)19 Followers (10-Cooks, 3-Sweepers, 2-Dhobies, 3-Followers, 1-Barber) to the rank of Record Clerk.\\n(b) .......\\n(c) 748 (Seven hundred and forty eight) Supernumerary posts be created in order to accommodate those who are accorded accelerated promotion. These posts now sanctioned are person oriented and they shall lapse whenever the incumbents vacate the post on retirement from service or otherwise.\\n(d) Relaxation of restrictions/conditions prescribed for promotion in the rules/Government order conditions for accelerated promotion and amendment to the relevant rules wherever necessary will be issued as a one time measure, separately. The Director General of Police is requested to send suitable proposals in this regard.\\n(e) The names of the individual who are granted accelerated promotion be placed at the bottom of the seniority list of the respective category existing on the date of their joining duty in the new post.\\n(f) The Inspectors of Police who are granted accelerated promotion to the rank of Deputy Superintendents of Police are appointed temporarily and their service would be regularized after obtaining the concurrence of Tamil Nadu Public Service Commission separately.\\n The details of names of personnel, their present rank and the rank to which they are promoted/appointed are as shown in the Annexure to this order.\\n6. The details of names of personnel, their present rank and the rank to which they are promoted/appointed are as shown in the Annexure to this order.\\n Thus, we need to consider as to whether there are equals and if so, whether the element of discrimination is apparent in this case. Even though, we are not called upon to decide as to whether the accelerated promotions given on these Appellants are valid or not, as the Appellants seek further benefit of seniority in the accelerated promoted cadre, incidentally, we need to examine as to whether such promotion given to those persons are made in such a way to confer the seniority benefit also as a matter of right.\\n37. Thus, we need to consider as to whether there are equals and if so, whether the element of discrimination is apparent in this case. Even though, we are not called upon to decide as to whether the accelerated promotions given on these Appellants are valid or not, as the Appellants seek further benefit of seniority in the accelerated promoted cadre, incidentally, we need to examine as to whether such promotion given to those persons are made in such a way to confer the seniority benefit also as a matter of right.\\n~~~~~~~~~~~~~~~~~~~~~~~~~~~~~~~~~~~~~~~~~~~~~~~~~~~~~~~~~~~~~~~~~~~~~~~~~~~~~~~~~~~~~~~~~~~~~~~ Sub-Inspector of Police (AR) As per rules 3(dd) of Special Rules for the Tamil Nadu Police Subordinate Service, Head Constables (Armed Reserve) who have not completed the age of 55 years on the first day of July of the year in which the selection for appointment is made, shall be included in the \"C\" list of Head Constable (Armed Reserve) fit for promotion as Sub Inspector of Police (Armed Reserve) by conducting Range Promotion Board. They must have completed a total service of 7 years and must have served as Head Constable whether permanent or officiating for period of not less than 4 years on the date of commencement of training.\\n~~~~~~~~~~~~~~~~~~~~~~~~~~~~~~~~~~~~~~~~~~~~~~~~~~~~~~~~~~~~~~~~~~~~~~~~~~~~~~~~~~~~~~~~~~~~~~~ Sub-Inspector of Police (AR) As per rules 3(dd) of Special Rules for the Tamil Nadu Police Subordinate Service, Head Constables (Armed Reserve) who have not completed the age of 55 years on the first day of July of the year in which the selection for appointment is made, shall be included in the \"C\" list of Head Constable (Armed Reserve) fit for promotion as Sub Inspector of Police (Armed Reserve) by conducting Range Promotion Board. They must have completed a total service of 7 years and must have served as Head Constable whether permanent or officiating for period of not less than 4 years on the date of commencement of training.\\n<|end|>\\n<|assistant|>\\nJudgement:\\n~~~~~~~~~~~~~~~~~~~~~~~~~~~~~~~~~~~~~~~~~~~~~~~~~~~~~~~~~~~~~~~~~~~~~~~~~~~~~~~~~~~~~~~~~~~~~~~ Head Constable Grade I PCs on completion of 5 years service with a total service of 15 years are eligible for promotion as Head Constable in the upgraded post.\\n89. Executive instructions cannot override the statutory rules. If the accelerated promotees are given seniority in the higher cadre it will affect the promotion of the person senior to the accelerated promotees in the lower cadre and it will lead to the situation of reduction of rank of their seniors in the lower category and the same is contrary to General Rule 35(a) and 35(aa) and natural justice which will affect the morale of the entire police force.\\n95. Accelerated promotion analogous to promotion given to reserved candidates:-\\nMr.R.Muthukumaraswamy, learned Senior Counsel submitted that in cases of accelerated promotion accorded basing on the rule of reservation superseding others, who were seniors in the feeder category, as per decision of the Hon\\'ble Supreme Court in AJIT SINGH AND OTHERS (II) VS. STATE OF PUNJAB AND OTHERS, (1999) 7 SCC 209, the seniors will rank above the accelerated promotees on reaching that promotional post. Learned Senior counsel submitted that even for the accelerated promotion based on the constitutional mandate of following the rule of reservation, when the seniors will catch up their original seniority, the accelerated promotees, in the present case who got accelerated promotion by means of executive orders, cannot claim consequential seniority in the higher position.\\n98. The same analogy of promotion is given to the reserved roster point promotees and that their seniors will catch up the original seniority will apply to the present case of accelerated promotees.\\n100. Option for joining Special Task Force not sought for from the police and therefore, grant of seniority to accelerated promotees would amount to discrimination of equals:- The Government in its own appreciation of bravery service rendered by those chosen persons, who were in the S.T.F, thought fit to grant accelerated promotion in preference to other persons of the same class.\\n105. Point No.8:-\\nChallenge to G.O.Ms.No. 332 Home Department Dated 3.5.2012:\\n(i) W.P.(MD) No.8911 of 2012 - The case of the petitioner is that he was selected for appointment to the post of Sub-Inspector of Police by direct Recruitment on merits and he joined service in 1987-1988. He was promoted to the post of Inspector of Police in the year 1997 and then to the post of Deputy Superintendent of Police in the year 2008.\\n(ii) W.P.No. 17731 of 2012 - These petitioners were selected for appointment to the post of Sub-Inspector of Police by direct recruitment on merits and they have joined service in 1987-1988. They were promoted to the post of Inspector of Police and then to the post of Deputy Superintendent of Police. In the said post they are continuously working till this date.\\n(iii) W.P.No. 20728 of 2012 - The petitioners herein are working as Inspectors of Police and they were recruited as Sub-Inspectors of Police between 1996 and 1999. They were promoted as Inspector of Police on 8.4.2005; 25.9.2010, 13.4.2005; and on 2.7.2010 respectively. They were promoted on the basis of their seniority in the cadre of Sub-Inspector of Police and they are awaiting promotion to the post of Deputy Superintendent of Police.\\n106. All these three writ petitions were filed challenging G.O.Ms.No. 332 dated 3.5.2012. They are all aggrieved against restoration of consequential seniority to the accelerated promotees.\\n114. All the contentions of respective parties, with regard to grant of accelerated promotion and the consequential seniority have been considered by us, supra, while deciding the writ appeals and other connected writ petitions. Therefore, those findings hold good to these writ petitions also. Hence, we are not reiterating those findings once again. In these writ petitions, we are only deciding with regard to the propriety of the Government in passing G.O.Ms.No.332 during the pendency of the writ appeals.\\n115. On careful analysis of all these submissions and pleadings, following questions arise for consideration in these writ petitions:-\\n1.Whether the stay granted by the Division Bench empowers the Government to take a decision on the same subject matter independently ?\\n2.Whether the decision taken to cancel clause 5(e) in G.O.Ms.No.1396 dated 3.10.2007, the subject matter in writ appeals, is a proper action on the part of the Government and whether a dispute, which is subjudice, can be a subject matter of a Government Order taking a parallel decision independently ?\\n3.Whether the Government\\'s action in cancelling clause 5(e) in G.O.Ms.No. 1396 dated 3.10.2007 , which was upheld by the learned single Judge and further being tested before the Division Bench, is in effect not as sitting over the judgment of the learned single Judge, especially under the circumstances where the Government had not chosen to challenge the same by filing any writ appeals ?\\n4.Whether the action of the Government in passing G.O. 332, in effect, is not nullifying the order of the learned single Judge, especially when the said action is not in the form of making or amending any legislation ?\\n5.Whether the writ petitions filed are liable to be rejected for non-joinder of necessary parties and whether such objection can be raised without there being a pleading to that effect ?\\n138. Without going into all these aspects, we could have set aside G.O.Ms.No. 332 dated 3.5.2012, by simply holding so in view of our findings and decision rendered in the above writ appeals. Yet, we would like to express our dismay and displeasure over the action of the Government in hurriedly passing G.O.Ms.No.332 without even waiting for the decision in the writ appeals. Therefore, we are of the view that in all fairness G.O.Ms.No.332 dated 3.5.2012 ought not to have been passed by the Government . Consequently, we have no hesitation in holding that G.O.Ms.No.332 dated 3.5.2012 is invalid and passed without any competency. Accordingly, the same is liable to be quashed.\\n139. Conclusion:-\\nW.A.Nos.849 to 854 and 2066 of 2010:\\nAccelerated promotion was without reference to the statutory rules or G.O.Ms.No.468, Home, dated 19.3.1996. The appellants and other police personnel were not promoted to the substantive posts but were accommodated by creation of supernumerary posts. Since there was ambiguity over panel position of the accelerated promotees vis-a-vis regular promotees, considering the representation given by the police officers, Government rightly issued G.O.Ms.No.1396 Home dated 3.10.2007 deleting paragraph No.5(e) in G.O.Ms.No.1252, Home, dated 29.10.2004 and G.O.Ms.No.1346, Home, dated 6.12.2004. Government was well within its powers in deleting Paragraph No.5(e) in G.O.Ms.No.1252, Home, dated 29.10.2004 and G.O.Ms.No.1346, Home, dated 6.12.2004 and clarifying the position by substituting a new one in G.O.Ms.No.1396, Home, dated 3.10.2007 restoring the original seniority. The learned single Judge rightly dismissed the Writ Petitions and we do not find any infirmity in the order of the learned single Judge warranting interference and all the Writ Appeals are dismissed. The order of status quo granted on 2.8.2012 is vacated.\\nConsequently, the Writ Petitions in W.P.Nos.25736 to 25741 of 2010 are dismissed.\\n140. W.P.Nos.17731, 20728 of 2012 and W.P.(MD) No.8911 of 2012: The impugned G.O.Ms.No.332 Home (Pol.1A) Department dated 03.5.2012 had directly dealt with the subject matter pending before the Division Bench sitting over the judgment of the learned single Judge. The grant of stay in Writ Appeals will not confer any right on the Government to pass the impugned G.O. Ms.No.332 Home (Pol.1A) Department dated 03.5.2012 independently and the impugned G.O.Ms.No.332 Home (Pol.1A) Department dated 03.5.2012 is quashed and all these Writ Petitions are allowed. No costs.\\nConsequently, connected Miscellaneous Petitions in all the Writ Appeals and in all the Writ Petitions shall stand dismissed.\\nusk/bbr To\\n1. The Secretary to Government, Home Department, Secretariat, Chennai-9.\\n2. The Director General of Police, Chennai 4\\n<|end|>']}\n"
     ]
    }
   ],
   "source": [
    "print(data)"
   ]
  },
  {
   "cell_type": "code",
   "execution_count": 146,
   "id": "52a2b07a-86a1-4b19-9b40-abbb39a5ec48",
   "metadata": {},
   "outputs": [],
   "source": [
    "with open('scrape_dataset/label.txt', 'w', encoding = 'utf8') as f:\n",
    "    f.write(label)\n",
    "f.close()"
   ]
  },
  {
   "cell_type": "code",
   "execution_count": 134,
   "id": "4bc66592-dd86-4b47-9838-ee3e9ecdbb50",
   "metadata": {},
   "outputs": [],
   "source": [
    "with open('scrape_dataset/input_id.txt', 'w', encoding = 'utf8') as f:\n",
    "    f.write(input_id)\n",
    "f.close()"
   ]
  },
  {
   "cell_type": "code",
   "execution_count": 118,
   "id": "b1d4709e-a72f-4d5b-be74-2c54a24d5c79",
   "metadata": {},
   "outputs": [],
   "source": [
    "inputs_df['input_ids'] = input_ids"
   ]
  },
  {
   "cell_type": "code",
   "execution_count": 120,
   "id": "d0fbc005-e7cb-4556-b10b-1bce04104bef",
   "metadata": {},
   "outputs": [],
   "source": [
    "inputs_df.to_csv('scrape_dataset/input_ids.txt', encoding = 'utf8', sep = '\\n', index = False)"
   ]
  },
  {
   "cell_type": "code",
   "execution_count": 13,
   "id": "56ba2a88-7150-43bb-843d-6a2063c7e8be",
   "metadata": {},
   "outputs": [],
   "source": [
    "driver.quit()"
   ]
  }
 ],
 "metadata": {
  "kernelspec": {
   "display_name": "Python 3 (ipykernel)",
   "language": "python",
   "name": "python3"
  },
  "language_info": {
   "codemirror_mode": {
    "name": "ipython",
    "version": 3
   },
   "file_extension": ".py",
   "mimetype": "text/x-python",
   "name": "python",
   "nbconvert_exporter": "python",
   "pygments_lexer": "ipython3",
   "version": "3.12.4"
  }
 },
 "nbformat": 4,
 "nbformat_minor": 5
}
