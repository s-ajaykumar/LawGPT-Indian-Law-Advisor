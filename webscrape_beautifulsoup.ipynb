{
 "cells": [
  {
   "cell_type": "code",
   "execution_count": 5,
   "id": "445b4bd3-0edb-47d4-a2c9-188de7341a94",
   "metadata": {},
   "outputs": [],
   "source": [
    "from bs4 import BeautifulSoup\n",
    "import requests\n",
    "from selenium import webdriver\n",
    "from selenium.webdriver import ChromeOptions"
   ]
  },
  {
   "cell_type": "code",
   "execution_count": 37,
   "id": "c2f7da4e-3b70-4676-9cf8-df6f7b6e8bbd",
   "metadata": {},
   "outputs": [],
   "source": [
    "def driver_start():\n",
    "    url = \"https://indiankanoon.org/doc/107707945/\"\n",
    "    response = requests.get(url)\n",
    "    soup = BeautifulSoup(response.text, 'html.parser')\n",
    "    return soup\n",
    "    \n",
    "    \n",
    "#remove_starting_nums\n",
    "def extracting_p_and_blockquote_tags(soup):\n",
    "    soup = soup\n",
    "    all_tags = soup.find(\"div\", class_ = \"judgments\" )\n",
    "    req_tags = []\n",
    "    for tag in all_tags:\n",
    "        if tag.name == 'p' or tag.name == 'blockquote':\n",
    "            req_tags.append(tag)\n",
    "    return req_tags\n",
    "\n",
    "#remove_starting_nums\n",
    "def remove_starting_nums(str):\n",
    "    return re.sub(r'^\\d+.', '', str)\n",
    "            \n",
    "#Extracting input_ids of each case\n",
    "def extract_input_id(req_tags):\n",
    "    req_tags = req_tags\n",
    "    input_id = ''\n",
    "    titles = [\"Fact\", \"Petitioner's Argument\", \"Issue\"]\n",
    "    for tag in req_tags:\n",
    "        if tag['title'] in titles:\n",
    "            if tag.name == 'blockquote':\n",
    "                input_id += tag.text + \"\\n\"\n",
    "            elif tag.name == 'p':\n",
    "                #s = remove_starting_nums(tag.text)\n",
    "                #input_id += s + \"\\n\"\n",
    "                input_id += tag.text + \"\\n\"\n",
    "    return input_id\n",
    "\n",
    "#Extracting input_ids of each case\n",
    "def extract_label(req_tags):\n",
    "    req_tags = req_tags\n",
    "    label = ''\n",
    "    titles = [\"Court's Reasoning\", \"Analysis of the law\", \"Precedent Analysis\", \"Conclusion\"]\n",
    "    for tag in req_tags:\n",
    "        if tag.get('title') in titles:\n",
    "            if tag.name == 'blockquote':\n",
    "                label += tag.text + \"\\n\"\n",
    "            elif tag.name == 'p':\n",
    "                #s = remove_starting_nums(tag.text)\n",
    "                #label += s + \"\\n\"\n",
    "                label += tag.text + \"\\n\"\n",
    "    return label\n",
    "\n",
    "#main function\n",
    "def main():\n",
    "    driver_start()\n",
    "    req_tags = extracting_p_and_blockquote_tags()\n",
    "    input_id = extract_input_id(req_tags)\n",
    "    label = extract_label(req_tags)\n",
    "    print(input_id, \"\\n\")\n",
    "    print(\"---------------------------------------------------------------------------------\")\n",
    "    print(\"\\n\", label)"
   ]
  },
  {
   "cell_type": "code",
   "execution_count": 38,
   "id": "30917dac-d904-47f4-bb2b-48eb5a4f6280",
   "metadata": {},
   "outputs": [],
   "source": [
    "soup = driver_start()"
   ]
  },
  {
   "cell_type": "code",
   "execution_count": 40,
   "id": "d031d83f-5fe1-4704-ac46-6e6ea7901773",
   "metadata": {},
   "outputs": [],
   "source": [
    "req_tags = extracting_p_and_blockquote_tags(soup)"
   ]
  },
  {
   "cell_type": "code",
   "execution_count": 18,
   "id": "2a2eb9db-21bc-4348-be54-cd22215c880b",
   "metadata": {},
   "outputs": [
    {
     "ename": "KeyError",
     "evalue": "'title'",
     "output_type": "error",
     "traceback": [
      "\u001b[1;31m---------------------------------------------------------------------------\u001b[0m",
      "\u001b[1;31mKeyError\u001b[0m                                  Traceback (most recent call last)",
      "Cell \u001b[1;32mIn[18], line 1\u001b[0m\n\u001b[1;32m----> 1\u001b[0m input_id \u001b[38;5;241m=\u001b[39m extract_input_id(req_tags)\n",
      "Cell \u001b[1;32mIn[15], line 27\u001b[0m, in \u001b[0;36mextract_input_id\u001b[1;34m(req_tags)\u001b[0m\n\u001b[0;32m     25\u001b[0m titles \u001b[38;5;241m=\u001b[39m [\u001b[38;5;124m\"\u001b[39m\u001b[38;5;124mFact\u001b[39m\u001b[38;5;124m\"\u001b[39m, \u001b[38;5;124m\"\u001b[39m\u001b[38;5;124mPetitioner\u001b[39m\u001b[38;5;124m'\u001b[39m\u001b[38;5;124ms Argument\u001b[39m\u001b[38;5;124m\"\u001b[39m, \u001b[38;5;124m\"\u001b[39m\u001b[38;5;124mIssue\u001b[39m\u001b[38;5;124m\"\u001b[39m]\n\u001b[0;32m     26\u001b[0m \u001b[38;5;28;01mfor\u001b[39;00m tag \u001b[38;5;129;01min\u001b[39;00m req_tags:\n\u001b[1;32m---> 27\u001b[0m     \u001b[38;5;28;01mif\u001b[39;00m tag[\u001b[38;5;124m'\u001b[39m\u001b[38;5;124mtitle\u001b[39m\u001b[38;5;124m'\u001b[39m] \u001b[38;5;129;01min\u001b[39;00m titles:\n\u001b[0;32m     28\u001b[0m         \u001b[38;5;28;01mif\u001b[39;00m tag\u001b[38;5;241m.\u001b[39mname \u001b[38;5;241m==\u001b[39m \u001b[38;5;124m'\u001b[39m\u001b[38;5;124mblockquote\u001b[39m\u001b[38;5;124m'\u001b[39m:\n\u001b[0;32m     29\u001b[0m             input_id \u001b[38;5;241m+\u001b[39m\u001b[38;5;241m=\u001b[39m tag\u001b[38;5;241m.\u001b[39mtext \u001b[38;5;241m+\u001b[39m \u001b[38;5;124m\"\u001b[39m\u001b[38;5;130;01m\\n\u001b[39;00m\u001b[38;5;124m\"\u001b[39m\n",
      "File \u001b[1;32mD:\\Ajay\\Softwares\\Lib\\site-packages\\bs4\\element.py:1573\u001b[0m, in \u001b[0;36mTag.__getitem__\u001b[1;34m(self, key)\u001b[0m\n\u001b[0;32m   1570\u001b[0m \u001b[38;5;28;01mdef\u001b[39;00m \u001b[38;5;21m__getitem__\u001b[39m(\u001b[38;5;28mself\u001b[39m, key):\n\u001b[0;32m   1571\u001b[0m \u001b[38;5;250m    \u001b[39m\u001b[38;5;124;03m\"\"\"tag[key] returns the value of the 'key' attribute for the Tag,\u001b[39;00m\n\u001b[0;32m   1572\u001b[0m \u001b[38;5;124;03m    and throws an exception if it's not there.\"\"\"\u001b[39;00m\n\u001b[1;32m-> 1573\u001b[0m     \u001b[38;5;28;01mreturn\u001b[39;00m \u001b[38;5;28mself\u001b[39m\u001b[38;5;241m.\u001b[39mattrs[key]\n",
      "\u001b[1;31mKeyError\u001b[0m: 'title'"
     ]
    }
   ],
   "source": [
    "input_id = extract_input_id(req_tags)"
   ]
  },
  {
   "cell_type": "code",
   "execution_count": 14,
   "id": "85dfab86-7864-448c-aaea-726bf8d1e65c",
   "metadata": {},
   "outputs": [
    {
     "name": "stdout",
     "output_type": "stream",
     "text": [
      "\n"
     ]
    }
   ],
   "source": [
    "print(input_id)"
   ]
  },
  {
   "cell_type": "code",
   "execution_count": null,
   "id": "432f53c9-760f-4be0-ab7c-5df2bac6c3c9",
   "metadata": {},
   "outputs": [],
   "source": []
  }
 ],
 "metadata": {
  "kernelspec": {
   "display_name": "Python 3 (ipykernel)",
   "language": "python",
   "name": "python3"
  },
  "language_info": {
   "codemirror_mode": {
    "name": "ipython",
    "version": 3
   },
   "file_extension": ".py",
   "mimetype": "text/x-python",
   "name": "python",
   "nbconvert_exporter": "python",
   "pygments_lexer": "ipython3",
   "version": "3.12.4"
  }
 },
 "nbformat": 4,
 "nbformat_minor": 5
}
